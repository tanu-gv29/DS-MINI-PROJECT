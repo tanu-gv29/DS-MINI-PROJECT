{
  "nbformat": 4,
  "nbformat_minor": 0,
  "metadata": {
    "colab": {
      "provenance": []
    },
    "kernelspec": {
      "name": "python3",
      "display_name": "Python 3"
    },
    "language_info": {
      "name": "python"
    }
  },
  "cells": [
    {
      "cell_type": "code",
      "source": [],
      "metadata": {
        "id": "NDXWZSF5EZ-B"
      },
      "execution_count": null,
      "outputs": []
    },
    {
      "cell_type": "code",
      "source": [
        "import pandas as pd\n",
        "from sklearn.ensemble import RandomForestClassifier\n",
        "from sklearn.metrics.pairwise import cosine_similarity\n",
        "from sklearn.model_selection import train_test_split\n",
        "from sklearn.feature_extraction.text import TfidfVectorizer\n",
        "from sklearn.metrics import accuracy_score\n",
        "import matplotlib.pyplot as plt\n",
        "!pip install pymupdf\n",
        "import fitz  # PyMuPDF for PDF extraction\n",
        "import spacy\n",
        "!pip install python-docx\n",
        "from docx import Document\n",
        "\n",
        "# Load spaCy's English model for NLP\n",
        "nlp = spacy.load(\"en_core_web_sm\")"
      ],
      "metadata": {
        "id": "LyCqD1b29vMz",
        "colab": {
          "base_uri": "https://localhost:8080/"
        },
        "outputId": "6191990d-31b0-4228-f19d-f9aeeb7ecc8d"
      },
      "execution_count": null,
      "outputs": [
        {
          "output_type": "stream",
          "name": "stdout",
          "text": [
            "Collecting pymupdf\n",
            "  Downloading PyMuPDF-1.24.13-cp39-abi3-manylinux2014_x86_64.manylinux_2_17_x86_64.whl.metadata (3.4 kB)\n",
            "Downloading PyMuPDF-1.24.13-cp39-abi3-manylinux2014_x86_64.manylinux_2_17_x86_64.whl (19.8 MB)\n",
            "\u001b[2K   \u001b[90m━━━━━━━━━━━━━━━━━━━━━━━━━━━━━━━━━━━━━━━━\u001b[0m \u001b[32m19.8/19.8 MB\u001b[0m \u001b[31m55.7 MB/s\u001b[0m eta \u001b[36m0:00:00\u001b[0m\n",
            "\u001b[?25hInstalling collected packages: pymupdf\n",
            "Successfully installed pymupdf-1.24.13\n",
            "Collecting python-docx\n",
            "  Downloading python_docx-1.1.2-py3-none-any.whl.metadata (2.0 kB)\n",
            "Requirement already satisfied: lxml>=3.1.0 in /usr/local/lib/python3.10/dist-packages (from python-docx) (5.3.0)\n",
            "Requirement already satisfied: typing-extensions>=4.9.0 in /usr/local/lib/python3.10/dist-packages (from python-docx) (4.12.2)\n",
            "Downloading python_docx-1.1.2-py3-none-any.whl (244 kB)\n",
            "\u001b[2K   \u001b[90m━━━━━━━━━━━━━━━━━━━━━━━━━━━━━━━━━━━━━━━━\u001b[0m \u001b[32m244.3/244.3 kB\u001b[0m \u001b[31m3.7 MB/s\u001b[0m eta \u001b[36m0:00:00\u001b[0m\n",
            "\u001b[?25hInstalling collected packages: python-docx\n",
            "Successfully installed python-docx-1.1.2\n"
          ]
        }
      ]
    },
    {
      "cell_type": "code",
      "source": [
        "# Example paths\n",
        "resume_pdf_path = '/content/drive/MyDrive/Sandhya Resume.pdf'  # Path to the PDF resume\n",
        "docx_path = '/content/drive/MyDrive/Skill dataset.docx'  # Path to the uploaded DOCX file\n",
        "# Load the dataset from an Excel file\n",
        "job_role_df = pd.read_excel('/content/drive/MyDrive/job role and skills.xlsx')  # Path to Excel file"
      ],
      "metadata": {
        "id": "0EF63EPq97s_"
      },
      "execution_count": null,
      "outputs": []
    },
    {
      "cell_type": "code",
      "source": [
        "# Function to extract text from a PDF resume\n",
        "def extract_text_from_pdf(pdf_path):\n",
        "    doc = fitz.open(pdf_path)\n",
        "    text = \"\"\n",
        "    for page_num in range(doc.page_count):\n",
        "        page = doc.load_page(page_num)\n",
        "        text += page.get_text()\n",
        "    return text\n",
        "# Step 1: Extract text from the PDF resume\n",
        "resume_text = extract_text_from_pdf(resume_pdf_path)\n",
        "print(\"Extracted Resume Text:\", resume_text)"
      ],
      "metadata": {
        "colab": {
          "base_uri": "https://localhost:8080/"
        },
        "id": "EybSIkwZ9xUW",
        "outputId": "0b9aa1a6-966f-4ba9-ea0e-b389d4ee3782"
      },
      "execution_count": null,
      "outputs": [
        {
          "output_type": "stream",
          "name": "stdout",
          "text": [
            "Extracted Resume Text:  \n",
            "SANDHYA J \n",
            " \n",
            "3rd Year B.Tech Artificial Intelligence and Data Science \n",
            "Rajalakshmi Engineering College \n",
            " \n",
            " \n",
            "  \n",
            "Contact Information \n",
            " Phone No: 6382910028 \n",
            " E-mail: sandhya26102004@gmail.com \n",
            " GitHub link: https://github.com/SandhyaJayaraj  \n",
            " \n",
            " \n",
            "Education \n",
            "Rajalakshmi Engineering College \n",
            "2022 - Present \n",
            "CGPA: 8.40 \n",
            "Government Girls Higher Secondary School, Porur \n",
            "12th Computer Science with Mathematics, 2021 - 2022 \n",
            "Grade: 91.17% \n",
            "Government Girls Higher Secondary School, Porur \n",
            "10th, 2019 - 2020 \n",
            "Grade: 85.2% \n",
            " \n",
            "Skills \n",
            " \n",
            "Programming Languages : \n",
            " C programming language including data structures (Intermediate). \n",
            " Python Programming Language (Intermediate). \n",
            " Java Programming Language (Basic). \n",
            " \n",
            "Frontend Web Development: \n",
            " Experience in HTML, with the ability to create and structure web pages. \n",
            " Basic understanding of CSS for styling web pages. \n",
            " Basic understanding of JavaScript. \n",
            " \n",
            "Databases: \n",
            " Basic knowledge of MySQL. \n",
            " Basic knowledge of Oracle. \n",
            "Design: \n",
            " Intermediate in Figma tool handling. \n",
            " Intermediate in Canva tool handling. \n",
            " \n",
            "Club Activities \n",
            " Event Management Associate of  YRC REC club. \n",
            " Member is Devs club. \n",
            " \n",
            "Internships \n",
            " Internship for Frontend Web Development by YHills Edutech. \n",
            " Internship inprogress for Data Science using Python by Teachnook. \n",
            " Internship for UI/UX designer by Next24tech technology. \n",
            " \n",
            "Projects \n",
            " To Do List : Developed a responsive To Do List using HTML, CSS and JavaScript. \n",
            " Digital Craft Studios : Developed a webpage for digital craft studios using HTML, CSS, \n",
            "JavaScript and Bootstrap. Enabled input of personal details, education, work experience, and \n",
            "skills. Integrated PDF generation and custom styling for enhanced visual appeal. \n",
            " Portfolio: Developed a portfolio for a trendy bride parlour using UI/UX design.  \n",
            " E- learning Website: Created a UI/UX design using Figma tool for a E-learning website \n",
            " Skill recommendation based on user resume – Ongoing data science project \n",
            " \n",
            "Workshop \n",
            " Participated in the Artificial Intelligence using Python workshop conducted by Top Engineers \n",
            "at IITM Research park. \n",
            " Attended AWS academy cloud architecting workshop conducted by ICT academy. \n",
            " Sawit.AI learnathon supported by GUVI, HCLtech, AICTE, NASSCOM and Women \n",
            "Techmakers by Google for Developers. \n",
            " \n",
            "Courses \n",
            " Completed a Career Essentials in Generative AI course by Microsoft and LinkedIn. \n",
            " Course in progress for Google UX Design Professional Certificate. \n",
            " \n",
            "Languages Known \n",
            " Tamil \n",
            "                Fluent in both spoken and written. \n",
            " English \n",
            "                Intermediate in spoken and Fluent in written\n",
            "\n"
          ]
        }
      ]
    },
    {
      "cell_type": "code",
      "source": [
        "# Function to extract skill keywords from a DOCX file\n",
        "def extract_skills_from_docx(docx_path):\n",
        "    doc = Document(docx_path)\n",
        "    skills = []\n",
        "    for paragraph in doc.paragraphs:\n",
        "        skills.extend(paragraph.text.split())  # Split by spaces\n",
        "    skills = [skill.strip().lower() for skill in skills if skill.strip()]  # Clean up whitespace and convert to lower case\n",
        "    return skills\n",
        "# Step 2: Extract skills from the DOCX file\n",
        "skill_keywords = extract_skills_from_docx(docx_path)\n",
        "print(\"Extracted Skill Keywords:\", skill_keywords)"
      ],
      "metadata": {
        "colab": {
          "base_uri": "https://localhost:8080/"
        },
        "id": "SoufPfjO9xWv",
        "outputId": "2b78103c-9715-44e4-faa9-5a7b32c16750"
      },
      "execution_count": null,
      "outputs": [
        {
          "output_type": "stream",
          "name": "stdout",
          "text": [
            "Extracted Skill Keywords: ['python', 'javascript', 'java', 'c', 'c++', 'sql', 'r', 'ruby', 'swift', 'html', 'css', 'react', 'node.js', 'angular', 'django', 'flask', 'spring', 'kotlin', 'typescript', 'php', 'c#', 'go', 'matlab', 'perl', 'rust', 'scala', 'bash', 'powershell', 'docker', 'kubernetes', 'jenkins', 'git', 'linux', 'aws', 'azure', 'gcp', 'hadoop', 'spark', 'terraform', 'ansible', 'tensorflow', 'pytorch', 'pandas', 'numpy', 'scikit-learn', 'tableau', 'power', 'bi', 'excel', 'salesforce', 'sap', 'oracle', 'mysql', 'postgresql', 'mongodb', 'redis', 'elasticsearch', 'clojure', 'elixir', 'f#', 'dlang', 'objective-c', 'swiftui', 'react', 'native', 'xamarin', 'cordova', 'phonegap', 'vue.js', 'backbone.js', 'ember.js', 'svelte', 'bootstrap', 'tailwind', 'css', 'grid', 'flexbox', 'material-ui', 'ant', 'design', 'bulma', 'foundation', 'electron', 'typeorm', 'sequelize', 'mongoose', 'sqlalchemy', 'doctrine', 'hibernate', 'jpa', 'apache', 'drill', 'presto', 'clickhouse', 'druid', 'airflow', 'luigi', 'celery', 'kafka', 'streams', 'flink', 'storm', 'spark', 'streaming', 'samza', 'ksql', 'beam', 'tensorrt', 'opencv', 'openvino', 'keras', 'mxnet', 'caffe', 'theano', 'chainer', 'lightgbm', 'catboost', 'xgboost', 'automl', 'h2o', 'pycaret', 'prophet', 'fbprophet', 'statsmodels', 'nltk', 'spacy', 'gensim', 'hugging', 'face', 'transformers', 'fastapi', 'flask', 'socket.io', 'grpc', 'thrift', 'protocol', 'buffers', 'restful', 'apis', 'graphql', 'apollo', 'hasura', 'postgraphile', 'websockets', 'rabbitmq', 'zeromq', 'redis', 'pub/sub', 'apache', 'pulsar', 'azure', 'devops', 'bamboo', 'argocd', 'spinnaker', 'tekton', 'harness', 'codepipeline', 'google', 'bigquery', 'redshift', 'snowflake', 'databricks', 'looker', 'mode', 'analytics', 'superset', 'metabase', 'qlik', 'sense', 'microstrategy', 'cognos', 'sas', 'jmp', 'rpa', '(robotic', 'process', 'automation)', 'uipath', 'blue', 'prism', 'automation', 'anywhere', 'power', 'automate', 'sap', 'hana', 's/4hana', 'abap', 'fiori', 'salesforce', 'apex', 'visualforce', 'tableau', 'server', 'power', 'bi', 'service', 'amazon', 'redshift', 'elasticsearch', 'logstash', 'fluentbit', 'opensearch', 'tableau', 'prep', 'alteryx', 'knime', 'sas', 'viya', 'google', 'data', 'studio', 'microsoft', 'ssis', 'talend', 'pentaho', 'informatica', 'marketo', 'hubspot', 'pardot', 'google', 'analytics', 'mixpanel', 'hotjar', 'fullstory', 'optimizely', 'vwo', 'crazy', 'egg', 'heap', 'analytics', 'appdynamics', 'dynatrace', 'new', 'relic', 'nagios', 'zabbix', 'datadog', 'grafana', 'splunk', 'opentelemetry', 'prometheus', 'jaeger', 'zipkin', 'pagerduty', 'opsgenie', 'servicenow', 'jira', 'service', 'desk', 'bmc', 'remedy', 'solarwinds', 'qualys', 'nessus', 'openvas', 'nmap', 'burp', 'suite', 'wireshark', 'snort', 'suricata', 'aircrack-ng', 'metasploit', 'cobalt', 'strike', 'core', 'impact', 'rapid7', 'nexpose', 'tenable', 'nessus', 'sentinelone', 'cylance', 'crowdstrike', 'carbon', 'black', 'sophos', 'eset', 'fireeye', 'cisco', 'asa', 'fortinet', 'palo', 'alto', 'juniper', 'srx', 'pfsense', 'aws', 'lambda', 'google', 'cloud', 'functions', 'azure', 'functions', 'ibm', 'cloud', 'functions', 'apache', 'openwhisk', 'knative', 'rancher', 'openshift', 'aks', 'eks', 'fargate', 'lambda', 'edge', 'iot', 'greengrass', 'aws', 'iot', 'core', 'azure', 'iot', 'hub', 'google', 'iot', 'edge', 'balena', 'tessel', 'particle.io', 'zephyr', 'freertos', 'arm', 'mbed', 'contiki', 'riot', 'micropython', 'circuitpython', 'adafruit', 'beaglebone', 'raspberry', 'pi', 'jetson', 'nano', 'arduino', 'esp32', 'stm32', 'fpga', 'vhdl', 'verilog', 'quartus', 'vivado', 'ise', 'synopsys', 'xilinx', 'altera', 'cadence', 'mentor', 'graphics', 'ansys', 'hfss', 'cst', 'comsol', 'simulink', 'solidedge', 'creo', 'nx', 'catia', 'hypermesh', 'ansa', 'nastran', 'abaqus', 'ls-dyna', 'hyperworks', 'simscale', 'star-ccm+', 'moldflow', 'autodesk', 'revit', '3ds', 'max', 'v-ray', 'corona', 'redshift', 'renderman', 'arnold', 'keyshot', 'blender', 'houdini', 'nuke', 'davinci', 'resolve', 'fusion', 'unity', 'unreal', 'engine', 'cryengine', 'godot', 'libgdx', 'sdl', 'monogame', 'rpg', 'maker', 'construct', 'phaser', 'cocos2d-x', 'torque3d', '3d', 'studio', 'max', 'rhinoceros', 'sketchup', 'tekla', 'revit', 'lumion', 'vred', 'maya', 'substance', 'painter', 'zbrush', 'marvelous', 'designer', 'clo3d', 'apache', 'kafka', 'firebase', 'github', 'bitbucket', 'unity', 'unreal', 'engine', 'blender', 'autocad', 'photoshop', 'illustrator', 'premiere', 'after', 'effects', 'figma', 'sketch', 'invision', 'solidworks', 'jira', 'confluence', 'agile', 'scrum', 'kanban', 'devops', 'ci/cd', 'selenium', 'jupyter', 'notebook', 'visual', 'studio', 'eclipse', 'netbeans', 'atom', 'sublime', 'text', 'vim', 'vs', 'code', 'objective-c', 'rust', 'groovy', 'haskell', 'erlang', 'lua', 'cobol', 'fortran', 'vba', 'sass', 'less', 'bootstrap', 'jquery', 'xaml', 'wpf', 'qt', 'tkinter', 'flask', 'express.js', 'asp.net', 'ruby', 'on', 'rails', 'laravel', 'symfony', 'zend', 'django', 'pyramid', 'openstack', 'openshift', 'vagrant', 'puppet', 'chef', 'saltstack', 'jenkins', 'travis', 'ci', 'circleci', 'bamboo', 'gradle', 'maven', 'ant', 'makefile', 'webpack', 'gulp', 'grunt', 'parcel', 'pytest', 'mocha', 'chai', 'jasmine', 'junit', 'testng', 'selenium', 'cypress', 'robot', 'framework', 'protractor', 'appium', 'espresso', 'xcui', 'test', 'puppeteer', 'playwright', 'soapui', 'postman', 'swagger', 'gatling', 'tsung', 'jmeter', 'grafana', 'prometheus', 'nagios', 'zabbix', 'new', 'relic', 'datadog', 'elk', 'stack', 'logstash', 'fluentd', 'splunk', 'sentry', 'dynatrace', 'pagerduty', 'victorops', 'prometheus', 'azure', 'monitor', 'cloudwatch', 'nagios', 'chef', 'puppet', 'ansible', 'saltstack', 'nginx', 'apache', 'http', 'tomcat', 'jetty', 'iis', 'weblogic', 'websphere', 'redis', 'memcached', 'varnish', 'rabbitmq', 'zeromq', 'kafka', 'activemq', 'nsq', 'celery', 'sidekiq', 'beanstalkd', 'kinesis', 'firehose', 'lambda', 'step', 'functions', 'sqs', 'cloudformation', 'terraform', 'pulumi', 'helm', 'docker', 'compose', 'openshift', 'rancher', 'mesosphere', 'openstack', 'vmware', 'vagrant', 'hyper-v', 'virtualbox', 'xen', 'kvm', 'qemu', 'systemd', 'upstart', 'init', 'docker', 'swarm', 'mesos', 'kubernetes', 'ecs', 'eks', 'aks', 'helm', 'minikube', 'istio', 'calico', 'cilium', 'envoy', 'nginx', 'ingress', 'traefik', 'consul', 'vault', 'nomad', 'redis', 'mongodb', 'cassandra', 'couchdb', 'dynamodb', 'hbase', 'riak', 'influxdb', 'opentsdb', 'timescaledb', 'graphite', 'prometheus', 'loki', 'zipkin', 'jaeger', 'datadog', 'sentry', 'prometheus', 'grafana', 'kibana', 'elastic', 'search', 'logstash', 'fluentd', 'splunk', 'graylog', 'papertrail', 'sumologic', 'loggly', 'netdata', 'new', 'relic', 'nagios', 'cloudwatch', 'azure', 'monitor', 'prometheus', 'datadog', 'signalfx', 'logicmonitor', 'site24x7', 'pingdom', 'uptrends', 'uptime', 'robot', 'catchpoint', 'thousandeyes', 'pageduty', 'victorops', 'pingdom', 'pagerduty', 'solarwinds', 'opsgenie', 'pingidentity', 'okta', 'auth0', 'shibboleth', 'cas', 'oauth', 'openid', 'connect', 'saml', 'keycloak', 'duo', 'security', 'google', 'authenticator', 'microsoft', 'authenticator', 'lastpass', 'onelogin', 'pingid', 'rsa', 'securid', 'symantec', 'vip', 'safenet', 'digipass', 'trustwave', 'symantec', 'webinspect', 'acunetix', 'qualys', 'nessus', 'openvas', 'burp', 'suite', 'zap', 'wireshark', 'tcpdump', 'nmap', 'snort', 'suricata', 'bro', 'zeek', 'ossec', 'wazuh', 'crowdstrike', 'carbon', 'black', 'tanium', 'fireeye', 'cyberark', 'splunk', 'phantom', 'ibm', 'qradar', 'alienvault', 'mcafee', 'epo', 'symantec', 'endpoint', 'rsa', 'netwitness', 'darktrace', 'cylance', 'mimecast', 'proofpoint', 'barracuda', 'ironscales', 'knowbe4', 'fireeye', 'eset', 'sophos', 'malwarebytes', 'tenable', 'rapid7', 'palo', 'alto', 'fortinet', 'checkpoint', 'cisco', 'asa', 'juniper', 'srx', 'openvpn', 'wireguard', 'tailscale', 'libreswan', 'strongswan', 'shadowsocks', 'v2ray', 'softether', 'cisco', 'meraki', 'ubiquiti', 'edgerouter', 'pfsense', 'openwrt', 'dd-wrt', 'mikrotik', 'cisco', 'prime', 'solarwinds', 'prtg', 'zabbix', 'nagios', 'logicmonitor', 'prometheus', 'dynatrace', 'appdynamics', 'new', 'relic', 'splunk', 'sentry', 'loggly', 'papertrail', 'sumologic', 'datadog', 'victorops', 'pagerduty', 'splunk', 'cloudwatch', 'azure', 'monitor', 'new', 'relic', 'graphite', 'grafana', 'prometheus', 'nagios', 'zabbix', 'puppet', 'chef', 'ansible', 'saltstack', 'terraform', 'cloudformation', 'jenkins', 'travis', 'ci', 'circleci', 'bamboo', 'docker', 'swarm', 'kubernetes', 'mesos', 'marathon', 'nomad', 'openshift', 'vmware', 'hyper-v', 'virtualbox', 'xen', 'kvm', 'qemu', 'systemd', 'init', 'docker', 'compose', 'lxc', 'lxd', 'openstack', 'vagrant', 'openshift', 'rancher', 'mesosphere', 'minikube', 'helm', 'terraform', 'pulumi', 'azure', 'resource', 'manager', 'cloudformation', 'app', 'engine', 'cloud', 'functions', 'lambda', 'api', 'gateway', 'cloudfront', 'cloudflare', 'varnish', 'nginx', 'haproxy', 'f5', 'load', 'balancer', 'kong', 'nginx', 'openresty', 'traefik', 'envoy', 'linkerd', 'istio', 'consul', 'calico', 'cilium', 'weave', 'flannel', 'open', 'vswitch', 'vpn', 'wireguard', 'openvpn', 'tailscale', 'libreswan', 'strongswan', 'cisco', 'asa', 'juniper', 'srx', 'palo', 'alto', 'fortinet', 'checkpoint', 'pfsense', 'sophos', 'meraki', 'mikrotik', 'edgerouter', 'ubiquiti', 'freeipa', 'openldap', 'active', 'directory', 'samba', 'kerberos', 'okta', 'pingidentity', 'onelogin', 'duo', 'security', 'rsa', 'secureid', 'symantec', 'vip', 'lastpass', 'keeper', 'bitwarden', '1password', 'yubico', 'yubikeys', 'cryptography', 'encryption', 'ssl/tls', 'ipsec', 'pgp', 'gpg', 'hmac', 'hashing', 'sha-256', 'sha-512', 'md5', 'pbkdf2', 'bcrypt', 'scrypt', 'argon2', 'rsa', 'dsa', 'ecdsa', 'eddsa', 'diffie-hellman', 'ecc', 'x.509', 'certificate', 'authority', 'pki', \"let's\", 'encrypt', 'openssl', 'gnupg', 'nacl', 'libsodium', 'pynacl', 'fortran', 'cobol', 'rpg', 'iv', 'vhdl', 'verilog', 'pl/sql', 't-sql', 'sqlite', 'mariadb', 'influxdb', 'couchbase', 'riak', 'voltdb', 'neo4j', 'orientdb', 'arangodb', 'hyperledger', 'fabric', 'corda', 'quorum', 'stellar', 'solidity', 'truffle', 'ganache', 'web3.js', 'hardhat', 'openzeppelin', 'chainlink', 'polkadot', 'substrate', 'cosmos', 'tendermint', 'stellar', 'ripple', 'eosio', 'iota', 'corda', 'r3', 'hyperledger', 'sawtooth', 'consensys', 'metamask', 'remix', 'solidity', 'rust', 'algorand', 'flow', 'avalanche', 'terra', 'solana', 'binance', 'chain', 'smart', 'contracts', 'dapps', 'tezos', 'zilliqa', 'basic', 'attention', 'token', 'brave', 'browser', 'docker', 'compose', 'podman', 'k8s', 'helm', 'kubeedge', 'rancher', 'longhorn', 'csi', 'rook', 'ceph', 'glusterfs', 'minio', 'harbor', 'velero', 'keda', 'linkerd', 'nats', 'envoy', 'istio', 'spinnaker', 'flagger', 'flagger', 'canary', 'deployments', 'flagger', 'a/b', 'testing', 'ambassador', 'contour', 'gloo', 'mesh', 'graphana', 'loki', 'cortex', 'tempo', 'observability', 'ebpf', 'calico', 'cilium', 'flannel', 'kube-router', 'nsx-t', 'aci', 'opencontrail', 'ovs', 'ovn', 'vpp', 'sr-iov', 'multus', 'weave', 'gitops', 'argocd', 'flux', 'continuous', 'deployment', 'cdk', 'cdktf', 'pulumi', 'crossplane', 'cloud-init', 'packer', 'terraform', 'cloud', 'functions', 'websockets', 'sse', 'socket.io', 'mqtt', 'coap', 'lwm2m', 'message', 'queues', 'sqs', 'kafka', 'rabbitmq', 'eventbridge', 'step', 'functions', 'kinesis', 'apache', 'flink', 'beam', 'apache', 'samza', 'azure', 'data', 'lake', 'azure', 'synapse', 'analytics', 'aws', 'glue', 'aws', 'redshift', 'bigquery', 'firestore', 'firebase', 'realtime', 'database', 'supabase', 'aws', 'lambda', 'functions', 'fastly', 'varnish', 'cdn', 'cloudflare', 'workers', 'azure', 'edge', 'google', 'cloud', 'run', 'webrtc', 'sip', 'ims', 'softphones', 'voip', 'asterisk', 'freepbx', 'kamailio', 'opensips', 'freeswitch', 'jitsi', 'meet', 'matrix', 'element', 'synapse', 'slackbot', 'microsoft', 'power', 'automate', 'zapier', 'integromat', 'n8n', 'automate.io', 'uipath', 'blue', 'prism', 'pega', 'automation', 'anywhere', 'winautomation', 'nice', 'automation', 'kofax', 'kapow', 'automation', 'openspan', 'pegasystems', 'bonita', 'appian', 'bizagi', 'mendix', 'outsystems', 'zoho', 'creator', 'bubble', 'glide', 'airtable', 'low', 'code', 'no', 'code', 'rpa', 'openshift', 'tekton', 'cd', 'envoy', 'service', 'mesh', 'opentelemetry', 'observability', 'log', 'aggregation', 'jaeger', 'zipkin', 'tracing', 'open', 'policy', 'agent', 'rego', 'compliance', 'as', 'code', 'osquery', 'fleet', 'auditbeat', 'sysdig', 'falco', 'prometheus', 'k8s', 'monitoring', 'loki', 'elasticsearch', 'siem', 'snort', 'bro', 'suricata', 'cloud', 'native', 'security', 'hashicorp', 'vault', 'boundary', 'zero', 'trust', 'security', 'openid', 'connect', 'oauth2', 'okta', 'auth0', 'ping', 'identity', 'duo', 'security', 'mfa', 'yubikey', 'u2f', 'fido2', 'casb', 'dlp', 'irm', 'sase', 'ztna', 'workload', 'identity', 'aws', 'iam', 'gcp', 'iam', 'azure', 'active', 'directory', 'azure', 'privileged', 'identity', 'microsoft', 'defender', 'sentinel', 'prisma', 'cloud', 'lacework', 'snyk', 'clair', 'harbor', 'aqua', 'security', 'twistlock', 'aws', 'shield', 'cloudarmor', 'azure', 'firewall', 'palo', 'alto', 'prisma', 'cortex', 'aws', 'security', 'hub', 'gcp', 'security', 'command', 'center', 'tenable.io', 'nessus', 'burpsuite', 'cobalt', 'strike', 'metasploit', 'armitage', 'core', 'impact', 'owasp', 'zap', 'ironwasp', 'webscarab', 'sqlmap', 'nikto', 'openvas', 'acunetix', 'sucuri', 'github', 'security', 'gitlab', 'sast', 'dast', 'iast', 'sca', 'vulnerability', 'scanning', 'static', 'analysis', 'ci/cd', 'security', 'devsecops', 'kiali', 'helm', 'charts', 'argo', 'workflows', 'serverless', 'knative']\n"
          ]
        }
      ]
    },
    {
      "cell_type": "code",
      "source": [
        "# Function to extract relevant skills from resume text based on the skill keywords\n",
        "def extract_skills_from_resume(text, skill_keywords):\n",
        "    doc = nlp(text)\n",
        "    resume_skills = set()\n",
        "    for token in doc:\n",
        "        if token.lemma_.lower() in skill_keywords:  # Compare lowercased lemmatized tokens\n",
        "            resume_skills.add(token.lemma_.lower())\n",
        "    return list(resume_skills)\n",
        "# Step 3: Extract skills from resume text using the extracted skill keywords\n",
        "resume_skills = extract_skills_from_resume(resume_text, skill_keywords)\n",
        "print(\"Extracted Skills from Resume:\", resume_skills)"
      ],
      "metadata": {
        "colab": {
          "base_uri": "https://localhost:8080/"
        },
        "id": "TdxoUAjr9xZP",
        "outputId": "1e0f9f0f-160f-48ce-8233-0b06c244372a"
      },
      "execution_count": null,
      "outputs": [
        {
          "output_type": "stream",
          "name": "stdout",
          "text": [
            "Extracted Skills from Resume: ['c', 'microsoft', 'certificate', 'python', 'html', 'javascript', 'data', 'bootstrap', 'mysql', 'basic', 'github', 'design', 'aws', 'visual', 'figma', 'oracle', 'studio', 'cloud', 'java', 'database', 'google', 'designer', 'on', 'css', 'no']\n"
          ]
        }
      ]
    },
    {
      "cell_type": "code",
      "source": [
        "# User-selected job role (in practice, this would be selected from a UI dropdown)\n",
        "selected_job_role = 'Data Scientist'\n",
        "\n",
        "# Fetch the required skills for the selected job role from the dataset\n",
        "# Find the row where 'Job Role' matches the selected role\n",
        "required_skills_row = job_role_df[job_role_df['Job Role'] == selected_job_role]\n",
        "\n",
        "# Extract the required skills, split them into a list, and convert to lowercase\n",
        "if not required_skills_row.empty:\n",
        "    required_skills = required_skills_row['Technical Skills Needed'].values[0].split()  # Split by spaces\n",
        "    required_skills = [skill.lower() for skill in required_skills]  # Convert each skill to lowercase\n",
        "    print(f\"Required Skills for {selected_job_role}: {required_skills}\")\n",
        "else:\n",
        "    print(f\"Job role '{selected_job_role}' not found in the dataset.\")"
      ],
      "metadata": {
        "colab": {
          "base_uri": "https://localhost:8080/"
        },
        "id": "pGbV7dNelMlT",
        "outputId": "0c5fca8c-ad21-4d38-9b74-96820b3b03a1"
      },
      "execution_count": null,
      "outputs": [
        {
          "output_type": "stream",
          "name": "stdout",
          "text": [
            "Required Skills for Data Scientist: ['python,', 'r,', 'machine', 'learning,', 'data', 'visualization,', 'sql,', 'nosql,', 'big', 'data', '(hadoop,', 'spark),', 'deep', 'learning', '(tensorflow,', 'keras),', 'statistical', 'analysis,', 'data', 'wrangling,', 'nlp,', 'data', 'mining,', 'cloud', 'computing', '(aws,', 'gcp)']\n"
          ]
        }
      ]
    },
    {
      "cell_type": "code",
      "source": [
        "# Step 4: Fetch the row for the selected job role\n",
        "selected_job_role = \"Data Scientist\"\n",
        "selected_job_role_data = job_role_df.loc[job_role_df['Job Role'] == selected_job_role]\n",
        "\n",
        "# Ensure that the job role exists in the dataset\n",
        "if selected_job_role_data.empty:\n",
        "    print(f\"Job role '{selected_job_role}' not found in the dataset.\")\n",
        "else:\n",
        "    # Step 5: Preprocess and apply TF-IDF vectorization only for the selected job role's skills\n",
        "    selected_job_role_data.loc[:, 'Technical Skills Needed'] = selected_job_role_data['Technical Skills Needed'].apply(lambda x: ' '.join(x.split()))\n",
        "\n",
        "    print(\"Data prepared successfully\")\n"
      ],
      "metadata": {
        "colab": {
          "base_uri": "https://localhost:8080/"
        },
        "id": "3bLmmNTZ9xdv",
        "outputId": "922b1997-2b06-4d46-a7dc-b1fbc6328800"
      },
      "execution_count": null,
      "outputs": [
        {
          "output_type": "stream",
          "name": "stdout",
          "text": [
            "Data prepared successfully\n"
          ]
        }
      ]
    },
    {
      "cell_type": "code",
      "source": [
        "if not selected_job_role_data.empty:\n",
        "    # Step 6: Apply TF-IDF Vectorization on 'Technical Skills Needed' for selected job role\n",
        "    from sklearn.feature_extraction.text import TfidfVectorizer\n",
        "\n",
        "    tfidf_vectorizer = TfidfVectorizer()\n",
        "    X_selected = tfidf_vectorizer.fit_transform(selected_job_role_data['Technical Skills Needed'])\n",
        "\n",
        "    print(\"TF-IDF vectorization successful\")\n",
        "    #print(X_selected)"
      ],
      "metadata": {
        "colab": {
          "base_uri": "https://localhost:8080/"
        },
        "id": "TdiOZHSNBicD",
        "outputId": "3faf29f4-0b44-4b20-9aba-a406c339c8f9"
      },
      "execution_count": null,
      "outputs": [
        {
          "output_type": "stream",
          "name": "stdout",
          "text": [
            "TF-IDF vectorization successful\n"
          ]
        }
      ]
    },
    {
      "cell_type": "code",
      "source": [
        "if not selected_job_role_data.empty:\n",
        "    from sklearn.model_selection import train_test_split\n",
        "    from sklearn.ensemble import RandomForestClassifier\n",
        "    from sklearn.metrics import accuracy_score\n",
        "\n",
        "    # Step 7: Train-Test Split\n",
        "    y_selected = selected_job_role_data['Job Role']\n",
        "    X_train, X_test, y_train, y_test = train_test_split(X_selected, y_selected, test_size=0.3, random_state=42)\n",
        "\n",
        "    # Step 8: Train the Random Forest Model\n",
        "    rf_model = RandomForestClassifier(n_estimators=100, random_state=42)\n",
        "    rf_model.fit(X_train, y_train)\n",
        "\n",
        "    # Step 9: Evaluate Model Accuracy\n",
        "    y_pred = rf_model.predict(X_test)\n",
        "    accuracy = accuracy_score(y_test, y_pred)\n",
        "    print(f\"Model Accuracy: {accuracy * 100:.2f}%\")\n"
      ],
      "metadata": {
        "colab": {
          "base_uri": "https://localhost:8080/"
        },
        "id": "4hQCwjijB7R9",
        "outputId": "5c2eba3c-3e44-460d-b3c1-7d64926c98eb"
      },
      "execution_count": null,
      "outputs": [
        {
          "output_type": "stream",
          "name": "stdout",
          "text": [
            "Model Accuracy: 100.00%\n"
          ]
        }
      ]
    },
    {
      "cell_type": "code",
      "source": [
        "if not selected_job_role_data.empty:\n",
        "    resume_skills_str = ' '.join(resume_skills)\n",
        "\n",
        "    # Step 10: Vectorize resume skills\n",
        "    resume_vector = tfidf_vectorizer.transform([resume_skills_str])\n",
        "    print(resume_vector)\n"
      ],
      "metadata": {
        "colab": {
          "base_uri": "https://localhost:8080/"
        },
        "id": "8Oygi3RNB-yK",
        "outputId": "7a9c8140-2127-4a86-f4fa-abdd78c0e53e"
      },
      "execution_count": null,
      "outputs": [
        {
          "output_type": "stream",
          "name": "stdout",
          "text": [
            "  (0, 2)\t0.5685556582078485\n",
            "  (0, 5)\t0.5685556582078485\n",
            "  (0, 10)\t0.37632116457664155\n",
            "  (0, 31)\t0.4602948056749725\n"
          ]
        }
      ]
    },
    {
      "cell_type": "code",
      "source": [
        "if not selected_job_role_data.empty:\n",
        "  # Clean and normalize required skills\n",
        "  required_skills = [skill.lower().strip(\",() \") for skill in required_skills]  # Remove unwanted chars and convert to lower case\n",
        "  # Find matched and missing skills\n",
        "  matched_skills = [skill for skill in resume_skills if skill in required_skills]\n",
        "  missing_skills = [skill for skill in required_skills if skill not in resume_skills]\n",
        "  print(f\"Matched Skills: {matched_skills}\")\n",
        "  print(f\"Missing Skills: {missing_skills}\")\n",
        "  # Step 13: Plot the pie chart\n",
        "  import matplotlib.pyplot as plt\n",
        "\n",
        "  matched_percentage = (len(matched_skills) / len(required_skills)) * 100\n",
        "  missing_percentage = 100 - matched_percentage\n",
        "  print(len(matched_skills))\n",
        "  print(len(required_skills))\n",
        "\n",
        "  labels = ['Matched Skills', 'Missing Skills']\n",
        "  sizes = [matched_percentage, missing_percentage]\n",
        "  colors = ['#4CAF50', '#FF6347']\n",
        "\n",
        "  plt.figure(figsize=(6, 6))\n",
        "  plt.pie(sizes, labels=labels, colors=colors, autopct='%1.1f%%', startangle=140)\n",
        "  plt.axis('equal')\n",
        "  plt.title(f\"Skill Match for {selected_job_role}\")\n",
        "  plt.show()"
      ],
      "metadata": {
        "colab": {
          "base_uri": "https://localhost:8080/",
          "height": 610
        },
        "id": "lMYGVTB_CjT1",
        "outputId": "61b74e11-5b84-4557-860e-6d16223311a7"
      },
      "execution_count": null,
      "outputs": [
        {
          "output_type": "stream",
          "name": "stdout",
          "text": [
            "Matched Skills: ['python', 'data', 'aws', 'cloud']\n",
            "Missing Skills: ['r', 'machine', 'learning', 'visualization', 'sql', 'nosql', 'big', 'hadoop', 'spark', 'deep', 'learning', 'tensorflow', 'keras', 'statistical', 'analysis', 'wrangling', 'nlp', 'mining', 'computing', 'gcp']\n",
            "4\n",
            "27\n"
          ]
        },
        {
          "output_type": "display_data",
          "data": {
            "text/plain": [
              "<Figure size 600x600 with 1 Axes>"
            ],
            "image/png": "[encoded data removed]"
          },
          "metadata": {}
        }
      ]
    },
    {
      "cell_type": "code",
      "source": [
        "# Apply TF-IDF to the 'Technical Skills Needed' column to create feature vectors for all job roles\n",
        "X = tfidf_vectorizer.fit_transform(job_role_df['Technical Skills Needed'])\n",
        "\n",
        "# Step 5: Convert the user's resume skills into a string and vectorize it using the same TF-IDF vectorizer\n",
        "resume_skills_str = ' '.join(resume_skills)\n",
        "resume_vector = tfidf_vectorizer.transform([resume_skills_str])\n",
        "\n",
        "print(\"Vectorized Resume Skills:\", resume_vector)\n"
      ],
      "metadata": {
        "colab": {
          "base_uri": "https://localhost:8080/"
        },
        "id": "9c-z6B0eOmkI",
        "outputId": "31a91c49-3258-457e-b89f-9fe5afca2972"
      },
      "execution_count": null,
      "outputs": [
        {
          "output_type": "stream",
          "name": "stdout",
          "text": [
            "Vectorized Resume Skills:   (0, 141)\t0.17746126480705107\n",
            "  (0, 189)\t0.3666744070897313\n",
            "  (0, 261)\t0.10464066525361773\n",
            "  (0, 343)\t0.22178037475584894\n",
            "  (0, 360)\t0.06891181218178152\n",
            "  (0, 361)\t0.2583372117669557\n",
            "  (0, 374)\t0.12735847087323796\n",
            "  (0, 520)\t0.2313001978728753\n",
            "  (0, 595)\t0.23307663601921588\n",
            "  (0, 645)\t0.21761721145574003\n",
            "  (0, 735)\t0.25544366466540164\n",
            "  (0, 736)\t0.21761721145574003\n",
            "  (0, 878)\t0.3032554209265685\n",
            "  (0, 913)\t0.3032554209265685\n",
            "  (0, 957)\t0.32028875337268803\n",
            "  (0, 974)\t0.24764004971440368\n",
            "  (0, 1098)\t0.09622785772271926\n",
            "  (0, 1451)\t0.24764004971440368\n"
          ]
        }
      ]
    },
    {
      "cell_type": "code",
      "source": [
        "# Step 6: Calculate the cosine similarity between the resume vector and all job role vectors\n",
        "similarity_scores = cosine_similarity(resume_vector, X)\n",
        "\n",
        "# Flatten the similarity scores array\n",
        "similarity_scores = similarity_scores.flatten()\n",
        "\n",
        "# Step 7: Add similarity scores to the job role dataset for ranking\n",
        "job_role_df['Similarity Score'] = similarity_scores\n"
      ],
      "metadata": {
        "id": "HtguUP2MPdZr"
      },
      "execution_count": null,
      "outputs": []
    },
    {
      "cell_type": "code",
      "source": [
        "# Step 8: Rank the job roles based on similarity scores\n",
        "job_role_df_sorted = job_role_df.sort_values(by='Similarity Score', ascending=False)\n",
        "\n",
        "# Step 9: Recommend the top N job roles\n",
        "top_N = 3  # You can change this value to recommend more or fewer jobs\n",
        "recommended_jobs = job_role_df_sorted[['Job Role', 'Similarity Score']].head(top_N)\n",
        "\n",
        "# Print top N recommended job roles and their similarity scores\n",
        "print(f\"Top {top_N} Roles matched with your resume:\")\n",
        "\n",
        "for idx, row in enumerate(recommended_jobs.itertuples(), 1):\n",
        "    print(f\"{idx}. {row[1]} with a similarity score of {row[2]:.2f}\")\n"
      ],
      "metadata": {
        "colab": {
          "base_uri": "https://localhost:8080/"
        },
        "id": "k3W6JC2pPjoy",
        "outputId": "473b70ff-2021-40ea-8a63-fdfb8f4ffd26"
      },
      "execution_count": null,
      "outputs": [
        {
          "output_type": "stream",
          "name": "stdout",
          "text": [
            "Top 3 Roles matched with your resume:\n",
            "1. Database Administrator with a similarity score of 0.29\n",
            "2. Information Architect with a similarity score of 0.27\n",
            "3. UX/UI Developer with a similarity score of 0.27\n"
          ]
        }
      ]
    },
    {
      "cell_type": "code",
      "source": [
        "import matplotlib.pyplot as plt\n",
        "import numpy as np\n",
        "\n",
        "# Step 10: Visualize the top recommended job roles with their similarity scores, with different colors\n",
        "colors = plt.cm.viridis(np.linspace(0, 1, top_N))  # Create a color gradient\n",
        "\n",
        "plt.figure(figsize=(8, 6))\n",
        "plt.barh(recommended_jobs['Job Role'], recommended_jobs['Similarity Score'], color=colors)\n",
        "plt.xlabel('Similarity Score')\n",
        "plt.title('Top Recommended Job Roles')\n",
        "plt.gca().invert_yaxis()  # Invert the y-axis to show the highest score on top\n",
        "plt.show()\n"
      ],
      "metadata": {
        "colab": {
          "base_uri": "https://localhost:8080/",
          "height": 564
        },
        "id": "XX_nmcDIRANP",
        "outputId": "1fd04d20-e713-4cc6-e11d-5972180fc85f"
      },
      "execution_count": null,
      "outputs": [
        {
          "output_type": "display_data",
          "data": {
            "text/plain": [
              "<Figure size 800x600 with 1 Axes>"
            ],
            "image/png": "[encoded data removed]"
          },
          "metadata": {}
        }
      ]
    }
  ]
}